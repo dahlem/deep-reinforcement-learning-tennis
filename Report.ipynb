{
 "cells": [
  {
   "cell_type": "markdown",
   "metadata": {},
   "source": [
    "# Collaboration and Competition\n",
    "\n",
    "---\n",
    "\n",
    "In this notebook, you will learn how to use the Unity ML-Agents environment for the third project of the [Deep Reinforcement Learning Nanodegree](https://www.udacity.com/course/deep-reinforcement-learning-nanodegree--nd893) program.\n",
    "\n",
    "### 1. Start the Environment\n",
    "\n",
    "We begin by importing the necessary packages.  If the code cell below returns an error, please revisit the project instructions to double-check that you have installed [Unity ML-Agents](https://github.com/Unity-Technologies/ml-agents/blob/master/docs/Installation.md) and [NumPy](http://www.numpy.org/)."
   ]
  },
  {
   "cell_type": "code",
   "execution_count": 1,
   "metadata": {},
   "outputs": [],
   "source": [
    "from unityagents import UnityEnvironment\n",
    "import numpy as np"
   ]
  },
  {
   "cell_type": "markdown",
   "metadata": {},
   "source": [
    "Next, we will start the environment!  **_Before running the code cell below_**, change the `file_name` parameter to match the location of the Unity environment that you downloaded.\n",
    "\n",
    "- **Mac**: `\"path/to/Tennis.app\"`\n",
    "- **Windows** (x86): `\"path/to/Tennis_Windows_x86/Tennis.exe\"`\n",
    "- **Windows** (x86_64): `\"path/to/Tennis_Windows_x86_64/Tennis.exe\"`\n",
    "- **Linux** (x86): `\"path/to/Tennis_Linux/Tennis.x86\"`\n",
    "- **Linux** (x86_64): `\"path/to/Tennis_Linux/Tennis.x86_64\"`\n",
    "- **Linux** (x86, headless): `\"path/to/Tennis_Linux_NoVis/Tennis.x86\"`\n",
    "- **Linux** (x86_64, headless): `\"path/to/Tennis_Linux_NoVis/Tennis.x86_64\"`\n",
    "\n",
    "For instance, if you are using a Mac, then you downloaded `Tennis.app`.  If this file is in the same folder as the notebook, then the line below should appear as follows:\n",
    "```\n",
    "env = UnityEnvironment(file_name=\"Tennis.app\")\n",
    "```"
   ]
  },
  {
   "cell_type": "code",
   "execution_count": 2,
   "metadata": {},
   "outputs": [
    {
     "name": "stderr",
     "output_type": "stream",
     "text": [
      "INFO:unityagents:\n",
      "'Academy' started successfully!\n",
      "Unity Academy name: Academy\n",
      "        Number of Brains: 1\n",
      "        Number of External Brains : 1\n",
      "        Lesson number : 0\n",
      "        Reset Parameters :\n",
      "\t\t\n",
      "Unity brain name: TennisBrain\n",
      "        Number of Visual Observations (per agent): 0\n",
      "        Vector Observation space type: continuous\n",
      "        Vector Observation space size (per agent): 8\n",
      "        Number of stacked Vector Observation: 3\n",
      "        Vector Action space type: continuous\n",
      "        Vector Action space size (per agent): 2\n",
      "        Vector Action descriptions: , \n"
     ]
    }
   ],
   "source": [
    "env = UnityEnvironment(file_name=\"Tennis.app\")"
   ]
  },
  {
   "cell_type": "markdown",
   "metadata": {},
   "source": [
    "Environments contain **_brains_** which are responsible for deciding the actions of their associated agents. Here we check for the first brain available, and set it as the default brain we will be controlling from Python."
   ]
  },
  {
   "cell_type": "code",
   "execution_count": 3,
   "metadata": {},
   "outputs": [],
   "source": [
    "# get the default brain\n",
    "brain_name = env.brain_names[0]\n",
    "brain = env.brains[brain_name]"
   ]
  },
  {
   "cell_type": "markdown",
   "metadata": {},
   "source": [
    "### 2. Examine the State and Action Spaces\n",
    "\n",
    "In this environment, two agents control rackets to bounce a ball over a net. If an agent hits the ball over the net, it receives a reward of +0.1.  If an agent lets a ball hit the ground or hits the ball out of bounds, it receives a reward of -0.01.  Thus, the goal of each agent is to keep the ball in play.\n",
    "\n",
    "The observation space consists of 8 variables corresponding to the position and velocity of the ball and racket. Two continuous actions are available, corresponding to movement toward (or away from) the net, and jumping. \n",
    "\n",
    "Run the code cell below to print some information about the environment."
   ]
  },
  {
   "cell_type": "code",
   "execution_count": 4,
   "metadata": {},
   "outputs": [
    {
     "name": "stdout",
     "output_type": "stream",
     "text": [
      "Number of agents: 2\n",
      "Size of each action: 2\n",
      "There are 2 agents. Each observes a state with length: 24\n",
      "The state for the first agent looks like: [ 0.          0.          0.          0.          0.          0.\n",
      "  0.          0.          0.          0.          0.          0.\n",
      "  0.          0.          0.          0.         -6.65278625 -1.5\n",
      " -0.          0.          6.83172083  6.         -0.          0.        ]\n"
     ]
    }
   ],
   "source": [
    "# reset the environment\n",
    "env_info = env.reset(train_mode=True)[brain_name]\n",
    "\n",
    "# number of agents \n",
    "num_agents = len(env_info.agents)\n",
    "print('Number of agents:', num_agents)\n",
    "\n",
    "# size of each action\n",
    "action_size = brain.vector_action_space_size\n",
    "print('Size of each action:', action_size)\n",
    "\n",
    "# examine the state space \n",
    "states = env_info.vector_observations\n",
    "state_size = states.shape[1]\n",
    "print('There are {} agents. Each observes a state with length: {}'.format(states.shape[0], state_size))\n",
    "print('The state for the first agent looks like:', states[0])"
   ]
  },
  {
   "cell_type": "markdown",
   "metadata": {},
   "source": [
    "### 3. Experiments\n",
    "\n",
    "The experiments were conducted using multi-agent DDPG agents. There was no re-engineering necessary, except to be able to configure shared network models.\n",
    "\n",
    "### 3.1 First Experiment\n",
    "\n",
    "The first experiment was conducted using a fully connected architecture with 512/256 hidden neurons for both the actor and the critic.\n",
    "\n",
    "This experiment did not accomplish the goal of the environment."
   ]
  },
  {
   "cell_type": "code",
   "execution_count": null,
   "metadata": {},
   "outputs": [],
   "source": [
    "import logging\n",
    "logger = logging.getLogger()\n",
    "logger.setLevel(logging.DEBUG)\n",
    "\n",
    "import pandas as pd\n",
    "\n",
    "import torch\n",
    "import torch.nn.functional as F\n",
    "import torch.optim as optim\n",
    "\n",
    "from rl.ddpg_agent import DDPGAgent\n",
    "from rl.train import train\n",
    "from rl.model import Actor, Critic\n",
    "from utils.rnd import Seeds\n",
    "\n",
    "seedGenerator = Seeds('seeds')\n",
    "seedGenerator.next()\n",
    "from rl.buffer import UniformReplayBuffer\n",
    "\n",
    "device = torch.device(\"cuda:0\" if torch.cuda.is_available() else \"cpu\")\n",
    "\n",
    "experience_params = {\n",
    "    'seed': seedGenerator,       # seed for the experience replay buffer\n",
    "    'buffer_size': 100000,        # size of the replay buffer\n",
    "    'batch_size': 128            # batch size sampled from the replay buffer\n",
    "}\n",
    "\n",
    "experienceReplay = UniformReplayBuffer(experience_params)\n",
    "\n",
    "\n",
    "# shared Actor/Critic Networks (w/ Target Network)\n",
    "#actor_local = Actor(model_params['actor_params']).to(device)\n",
    "#actor_target = Actor(model_params['actor_params']).to(device)\n",
    "#actor_optimizer = optim.Adam(actor_local.parameters(), lr=model_params['actor_params']['lr'])\n",
    "\n",
    "params = {\n",
    "    'name': 'Tennis-512-256',\n",
    "    'episodes': 5000,            # number of episodes\n",
    "    'maxlen': 100,               # sliding window size of recent scores\n",
    "    'brain_name': brain_name,    # the brain name of the unity environment\n",
    "    'achievement': 0.5,           # score at which the environment is considered solved\n",
    "    'environment': env,\n",
    "    'agent_params': {\n",
    "        'experience_replay': experienceReplay,\n",
    "        'actor_local': None,\n",
    "        'actor_target': None,\n",
    "        'actor_optimizer': None,\n",
    "        'critic_local': None,\n",
    "        'critic_target': None,\n",
    "        'critic_optimizer': None,\n",
    "        'actor_params': {            # actor parameters\n",
    "            'norm': True,\n",
    "            'lr': 0.0001,                 # learning rate\n",
    "            'state_size': state_size,    # size of the state space\n",
    "            'action_size': action_size,  # size of the action space\n",
    "            'seed': seedGenerator,       # seed of the network architecture\n",
    "            'hidden_layers': [512, 256],  # hidden layer neurons\n",
    "            'dropout': 0.05,\n",
    "            'act_fn': [F.leaky_relu, F.leaky_relu, F.tanh]\n",
    "        },\n",
    "        'critic_params': {               # critic parameters\n",
    "            'norm': True,\n",
    "            'lr': 0.0001,                 # learning rate\n",
    "            'weight_decay': 0.0,         # weight decay\n",
    "            'state_size': state_size,    # size of the state space\n",
    "            'action_size': action_size,  # size of the action space\n",
    "            'seed': seedGenerator,       # seed of the network architecture\n",
    "            'hidden_layers': [512, 256],  # hidden layer neurons\n",
    "            'dropout': 0.05,\n",
    "            'action_layer': 1,\n",
    "            'act_fn': [F.leaky_relu, F.leaky_relu, lambda x: x]\n",
    "        },\n",
    "        'seed': seedGenerator,\n",
    "        'num_agents': num_agents,    # number of agents in the environment\n",
    "        'gamma': 0.99,               # discount factor\n",
    "        'tau': 0.001,                # mixing rate soft-update of target parameters\n",
    "        'update_every': 5,          # update every n-th step\n",
    "        'num_updates': 10,            # we don't necessarily need to run as many rounds of updates as there are agents\n",
    "        'add_noise': True,           # add noise using 'noise_params'\n",
    "        'noise_params': {            # parameters for the noisy process\n",
    "            'mu': 0.,                # mean\n",
    "            'theta': 0.15,           # theta value for the ornstein-uhlenbeck process\n",
    "            'sigma': 0.2,            # variance\n",
    "            'seed': seedGenerator,   # seed\n",
    "            'action_size': action_size\n",
    "        }\n",
    "    }\n",
    "}\n",
    "\n",
    "agents = [DDPGAgent(idx=idx, params=params['agent_params']) for idx, a in enumerate(range(num_agents))]\n",
    "\n",
    "scores = train(agents=agents, params=params)\n",
    "\n",
    "df = pd.DataFrame(data={'episode': np.arange(len(scores)), 'Tennis-512-256': scores})\n",
    "df.to_csv('results/Tennis-512-256-scores.csv', index=False)"
   ]
  },
  {
   "cell_type": "markdown",
   "metadata": {},
   "source": [
    "### 3.2 Second Experiment\n",
    "\n",
    "Since we failed at the first experiment, there are a number of things we can try. Among those are to increase the number of episodes considerably to check whether any learning is attainable given the same architecture; or we could widen or deepen the neural network model.\n",
    "\n",
    "Here, we use a larger batch size and run the experiment for much longer, i.e., 15000 episodes. The second experiment reaches the 0.5 goal of the environment."
   ]
  },
  {
   "cell_type": "code",
   "execution_count": 5,
   "metadata": {},
   "outputs": [
    {
     "name": "stderr",
     "output_type": "stream",
     "text": [
      "DEBUG:matplotlib:$HOME=/Users/ddahlem\n",
      "DEBUG:matplotlib:CONFIGDIR=/Users/ddahlem/.matplotlib\n",
      "DEBUG:matplotlib:matplotlib data path: /Users/ddahlem/anaconda3/envs/drlnd/lib/python3.6/site-packages/matplotlib/mpl-data\n",
      "DEBUG:matplotlib:loaded rc file /Users/ddahlem/anaconda3/envs/drlnd/lib/python3.6/site-packages/matplotlib/mpl-data/matplotlibrc\n",
      "DEBUG:matplotlib:matplotlib version 3.0.0\n",
      "DEBUG:matplotlib:interactive is False\n",
      "DEBUG:matplotlib:platform is darwin\n",
      "DEBUG:matplotlib:loaded modules: ['builtins', 'sys', '_frozen_importlib', '_imp', '_warnings', '_thread', '_weakref', '_frozen_importlib_external', '_io', 'marshal', 'posix', 'zipimport', 'encodings', 'codecs', '_codecs', 'encodings.aliases', 'encodings.utf_8', '_signal', '__main__', 'encodings.latin_1', 'io', 'abc', '_weakrefset', '_bootlocale', '_locale', 'site', 'os', 'errno', 'stat', '_stat', 'posixpath', 'genericpath', 'os.path', '_collections_abc', '_sitebuiltins', 'sysconfig', '_sysconfigdata_m_darwin_darwin', '_osx_support', 're', 'enum', 'types', 'functools', '_functools', 'collections', 'operator', '_operator', 'keyword', 'heapq', '_heapq', 'itertools', 'reprlib', '_collections', 'weakref', 'collections.abc', 'sre_compile', '_sre', 'sre_parse', 'sre_constants', 'copyreg', 'importlib', 'importlib._bootstrap', 'importlib._bootstrap_external', 'warnings', 'importlib.util', 'importlib.abc', 'importlib.machinery', 'contextlib', 'mpl_toolkits', 'google', 'runpy', 'pkgutil', 'ipykernel', 'ipykernel._version', 'ipykernel.connect', '__future__', 'json', 'json.decoder', 'json.scanner', '_json', 'json.encoder', 'subprocess', 'time', 'signal', '_posixsubprocess', 'select', 'selectors', 'math', 'threading', 'traceback', 'linecache', 'tokenize', 'token', 'IPython', 'IPython.core', 'IPython.core.getipython', 'IPython.core.release', 'IPython.core.application', 'atexit', 'copy', 'glob', 'fnmatch', 'logging', 'string', '_string', 'shutil', 'zlib', 'bz2', '_compression', '_bz2', 'lzma', '_lzma', 'pwd', 'grp', 'traitlets', 'traitlets.traitlets', 'inspect', 'ast', '_ast', 'dis', 'opcode', '_opcode', 'six', 'struct', '_struct', 'traitlets.utils', 'traitlets.utils.getargspec', 'traitlets.utils.importstring', 'ipython_genutils', 'ipython_genutils._version', 'ipython_genutils.py3compat', 'ipython_genutils.encoding', 'locale', 'platform', 'traitlets.utils.sentinel', 'traitlets.utils.bunch', 'traitlets._version', 'traitlets.config', 'traitlets.config.application', 'decorator', 'traitlets.config.configurable', 'traitlets.config.loader', 'argparse', 'textwrap', 'gettext', 'ipython_genutils.path', 'random', 'hashlib', '_hashlib', '_blake2', '_sha3', 'bisect', '_bisect', '_random', 'ipython_genutils.text', 'ipython_genutils.importstring', 'IPython.core.crashhandler', 'pprint', 'IPython.core.ultratb', 'pydoc', 'urllib', 'urllib.parse', 'IPython.core.debugger', 'bdb', 'IPython.utils', 'IPython.utils.PyColorize', 'IPython.utils.coloransi', 'IPython.utils.ipstruct', 'IPython.utils.colorable', 'pygments', 'pygments.util', 'IPython.utils.py3compat', 'IPython.utils.encoding', 'IPython.core.excolors', 'IPython.testing', 'IPython.testing.skipdoctest', 'pdb', 'cmd', 'code', 'codeop', 'IPython.core.display_trap', 'IPython.utils.openpy', 'IPython.utils.path', 'IPython.utils.process', 'IPython.utils._process_posix', 'pexpect', 'pexpect.exceptions', 'pexpect.utils', 'pexpect.expect', 'pexpect.pty_spawn', 'pty', 'tty', 'termios', 'ptyprocess', 'ptyprocess.ptyprocess', 'fcntl', 'resource', 'ptyprocess.util', 'pexpect.spawnbase', 'pexpect.run', 'IPython.utils._process_common', 'shlex', 'IPython.utils.decorators', 'IPython.utils.data', 'IPython.utils.terminal', 'IPython.utils.sysinfo', 'IPython.utils._sysinfo', 'IPython.core.profiledir', 'IPython.paths', 'tempfile', 'IPython.utils.importstring', 'IPython.terminal', 'IPython.terminal.embed', 'IPython.core.compilerop', 'IPython.core.magic_arguments', 'IPython.core.error', 'IPython.utils.text', 'pathlib', 'ntpath', 'IPython.core.magic', 'getopt', 'IPython.core.oinspect', 'IPython.core.page', 'IPython.core.display', 'binascii', 'mimetypes', 'IPython.lib', 'IPython.lib.security', 'getpass', 'IPython.lib.pretty', 'datetime', '_datetime', 'IPython.utils.signatures', 'IPython.utils.dir2', 'IPython.utils.wildcard', 'pygments.lexers', 'pygments.lexers._mapping', 'pygments.modeline', 'pygments.plugin', 'pygments.lexers.python', 'pygments.lexer', 'pygments.filter', 'pygments.filters', 'pygments.token', 'pygments.regexopt', 'pygments.unistring', 'pygments.formatters', 'pygments.formatters._mapping', 'pygments.formatters.html', 'pygments.formatter', 'pygments.styles', 'IPython.core.inputsplitter', 'IPython.core.inputtransformer', 'IPython.core.splitinput', 'IPython.utils.tokenize2', 'IPython.core.interactiveshell', 'pickleshare', 'pickle', '_compat_pickle', '_pickle', 'IPython.core.prefilter', 'IPython.core.autocall', 'IPython.core.macro', 'IPython.core.alias', 'IPython.core.builtin_trap', 'IPython.core.events', 'backcall', 'backcall.backcall', 'IPython.core.displayhook', 'IPython.core.displaypub', 'IPython.core.extensions', 'IPython.core.formatters', 'IPython.utils.sentinel', 'IPython.core.history', 'sqlite3', 'sqlite3.dbapi2', '_sqlite3', 'IPython.core.logger', 'IPython.core.payload', 'IPython.core.usage', 'IPython.display', 'IPython.lib.display', 'html', 'html.entities', 'IPython.utils.io', 'IPython.utils.capture', 'IPython.utils.strdispatch', 'IPython.core.hooks', 'IPython.utils.syspathcontext', 'IPython.utils.tempdir', 'typing', 'typing.io', 'typing.re', 'IPython.utils.contexts', 'IPython.terminal.interactiveshell', 'prompt_toolkit', 'prompt_toolkit.interface', 'prompt_toolkit.application', 'prompt_toolkit.buffer', 'prompt_toolkit.auto_suggest', 'prompt_toolkit.filters', 'prompt_toolkit.filters.base', 'prompt_toolkit.utils', 'wcwidth', 'wcwidth.wcwidth', 'wcwidth.table_wide', 'wcwidth.table_zero', 'six.moves', 'prompt_toolkit.filters.cli', 'prompt_toolkit.enums', 'prompt_toolkit.key_binding', 'prompt_toolkit.key_binding.vi_state', 'prompt_toolkit.cache', 'prompt_toolkit.filters.types', 'prompt_toolkit.filters.utils', 'prompt_toolkit.clipboard', 'prompt_toolkit.clipboard.base', 'prompt_toolkit.selection', 'prompt_toolkit.clipboard.in_memory', 'prompt_toolkit.completion', 'prompt_toolkit.document', 'prompt_toolkit.history', 'prompt_toolkit.search_state', 'prompt_toolkit.validation', 'prompt_toolkit.buffer_mapping', 'prompt_toolkit.key_binding.bindings', 'prompt_toolkit.key_binding.bindings.basic', 'prompt_toolkit.keys', 'prompt_toolkit.layout', 'prompt_toolkit.layout.containers', 'prompt_toolkit.layout.controls', 'prompt_toolkit.mouse_events', 'prompt_toolkit.token', 'prompt_toolkit.layout.lexers', 'prompt_toolkit.layout.utils', 'prompt_toolkit.layout.processors', 'prompt_toolkit.reactive', 'prompt_toolkit.layout.screen', 'prompt_toolkit.layout.dimension', 'prompt_toolkit.layout.margins', 'prompt_toolkit.renderer', 'prompt_toolkit.layout.mouse_handlers', 'prompt_toolkit.output', 'prompt_toolkit.styles', 'prompt_toolkit.styles.base', 'prompt_toolkit.styles.defaults', 'prompt_toolkit.styles.from_dict', 'prompt_toolkit.styles.utils', 'prompt_toolkit.styles.from_pygments', 'pygments.style', 'pygments.styles.default', 'prompt_toolkit.key_binding.bindings.named_commands', 'prompt_toolkit.key_binding.bindings.completion', 'prompt_toolkit.key_binding.registry', 'prompt_toolkit.key_binding.input_processor', 'prompt_toolkit.key_binding.bindings.emacs', 'prompt_toolkit.key_binding.bindings.scroll', 'prompt_toolkit.key_binding.bindings.vi', 'prompt_toolkit.key_binding.digraphs', 'prompt_toolkit.key_binding.defaults', 'prompt_toolkit.eventloop', 'prompt_toolkit.eventloop.base', 'prompt_toolkit.eventloop.callbacks', 'prompt_toolkit.input', 'prompt_toolkit.terminal', 'prompt_toolkit.terminal.vt100_input', 'prompt_toolkit.shortcuts', 'prompt_toolkit.layout.menus', 'prompt_toolkit.layout.prompt', 'prompt_toolkit.layout.toolbars', 'prompt_toolkit.terminal.vt100_output', 'array', 'prompt_toolkit.key_binding.manager', 'IPython.terminal.debugger', 'IPython.core.completer', 'unicodedata', 'IPython.core.latex_symbols', 'IPython.utils.generics', 'simplegeneric', 'jedi', 'jedi.api', 'parso', 'parso.parser', 'parso.tree', 'parso._compatibility', 'parso.pgen2', 'parso.pgen2.generator', 'parso.pgen2.grammar_parser', 'parso.python', 'parso.python.tokenize', 'parso.python.token', 'parso.utils', 'parso.grammar', 'parso.python.diff', 'difflib', 'parso.python.parser', 'parso.python.tree', 'parso.python.prefix', 'parso.cache', 'gc', 'parso.python.errors', 'parso.normalizer', 'parso.python.pep8', 'jedi._compatibility', 'queue', 'jedi.parser_utils', 'jedi.debug', 'colorama', 'colorama.initialise', 'colorama.ansitowin32', 'colorama.ansi', 'colorama.winterm', 'colorama.win32', 'ctypes', '_ctypes', 'ctypes._endian', 'jedi.settings', 'jedi.cache', 'jedi.api.classes', 'jedi.evaluate', 'jedi.evaluate.utils', 'jedi.evaluate.imports', 'jedi.evaluate.sys_path', 'jedi.evaluate.cache', 'jedi.evaluate.base_context', 'jedi.common', 'jedi.common.context', 'jedi.evaluate.helpers', 'jedi.common.utils', 'jedi.evaluate.compiled', 'jedi.evaluate.compiled.context', 'jedi.evaluate.filters', 'jedi.evaluate.flow_analysis', 'jedi.evaluate.recursion', 'jedi.evaluate.lazy_context', 'jedi.evaluate.compiled.access', 'jedi.evaluate.compiled.getattr_static', 'jedi.evaluate.compiled.fake', 'jedi.evaluate.analysis', 'jedi.evaluate.context', 'jedi.evaluate.context.module', 'jedi.evaluate.context.klass', 'jedi.evaluate.context.function', 'jedi.evaluate.docstrings', 'jedi.evaluate.pep0484', 'jedi.evaluate.arguments', 'jedi.evaluate.context.iterable', 'jedi.evaluate.param', 'jedi.evaluate.context.asynchronous', 'jedi.evaluate.parser_cache', 'jedi.evaluate.context.instance', 'jedi.evaluate.syntax_tree', 'jedi.evaluate.finder', 'jedi.api.keywords', 'pydoc_data', 'pydoc_data.topics', 'jedi.api.interpreter', 'jedi.evaluate.compiled.mixed', 'jedi.api.helpers', 'jedi.api.completion', 'jedi.api.environment', 'filecmp', 'jedi.evaluate.compiled.subprocess', 'socket', '_socket', 'jedi.evaluate.compiled.subprocess.functions', 'jedi.api.exceptions', 'jedi.api.project', 'jedi.evaluate.usages', 'IPython.terminal.ptutils', 'IPython.terminal.shortcuts', 'IPython.terminal.magics', 'IPython.lib.clipboard', 'IPython.terminal.pt_inputhooks', 'IPython.terminal.prompts', 'IPython.terminal.ipapp', 'IPython.core.magics', 'IPython.core.magics.auto', 'IPython.core.magics.basic', 'IPython.core.magics.code', 'urllib.request', 'base64', 'email', 'http', 'http.client', 'email.parser', 'email.feedparser', 'email.errors', 'email._policybase', 'email.header', 'email.quoprimime', 'email.base64mime', 'email.charset', 'email.encoders', 'quopri', 'email.utils', 'email._parseaddr', 'calendar', 'email.message', 'uu', 'email._encoded_words', 'email.iterators', 'ssl', 'ipaddress', '_ssl', 'urllib.error', 'urllib.response', '_scproxy', 'IPython.core.magics.config', 'IPython.core.magics.display', 'IPython.core.magics.execution', 'timeit', 'cProfile', '_lsprof', 'profile', 'optparse', 'pstats', 'IPython.utils.module_paths', 'imp', 'IPython.utils.timing', 'IPython.core.magics.extension', 'IPython.core.magics.history', 'IPython.core.magics.logging', 'IPython.core.magics.namespace', 'IPython.core.magics.osm', 'IPython.core.magics.pylab', 'IPython.core.pylabtools', 'IPython.core.magics.script', 'IPython.lib.backgroundjobs', 'IPython.core.shellapp', 'IPython.extensions', 'IPython.extensions.storemagic', 'IPython.utils.frame', 'jupyter_client', 'jupyter_client._version', 'jupyter_client.connect', 'zmq', 'zmq.libzmq', 'zmq.backend', 'zmq.backend.select', 'zmq.backend.cython', 'cython_runtime', 'zmq.backend.cython.constants', '_cython_0_28_5', 'zmq.backend.cython.error', 'zmq.backend.cython.message', 'zmq.error', 'zmq.backend.cython.context', 'zmq.backend.cython.socket', 'zmq.backend.cython.utils', 'zmq.backend.cython._poll', 'zmq.backend.cython._version', 'zmq.backend.cython._device', 'zmq.sugar', 'zmq.sugar.constants', 'zmq.utils', 'zmq.utils.constant_names', 'zmq.sugar.context', 'zmq.sugar.attrsettr', 'zmq.sugar.socket', 'zmq.sugar.poll', 'zmq.utils.jsonapi', 'zmq.utils.strtypes', 'zmq.sugar.frame', 'zmq.sugar.tracker', 'zmq.sugar.version', 'zmq.sugar.stopwatch', 'jupyter_client.localinterfaces', 'jupyter_core', 'jupyter_core.version', 'jupyter_core.paths', 'jupyter_client.launcher', 'traitlets.log', 'jupyter_client.client', 'jupyter_client.channels', 'jupyter_client.channelsabc', 'jupyter_client.clientabc', 'jupyter_client.manager', 'jupyter_client.kernelspec', 'jupyter_client.managerabc', 'jupyter_client.blocking', 'jupyter_client.blocking.client', 'jupyter_client.blocking.channels', 'jupyter_client.multikernelmanager', 'uuid', 'ctypes.util', 'ctypes.macholib', 'ctypes.macholib.dyld', 'ctypes.macholib.framework', 'ctypes.macholib.dylib', 'ipykernel.kernelapp', 'tornado', 'tornado.ioloop', 'numbers', 'tornado.concurrent', 'tornado.log', 'logging.handlers', 'tornado.escape', 'tornado.util', 'tornado.speedups', 'curses', '_curses', 'tornado.stack_context', 'concurrent', 'concurrent.futures', 'concurrent.futures._base', 'concurrent.futures.process', 'multiprocessing', 'multiprocessing.context', 'multiprocessing.process', 'multiprocessing.reduction', '__mp_main__', 'multiprocessing.connection', '_multiprocessing', 'multiprocessing.util', 'concurrent.futures.thread', 'asyncio', 'asyncio.base_events', 'asyncio.compat', 'asyncio.coroutines', 'asyncio.constants', 'asyncio.events', 'asyncio.base_futures', 'asyncio.log', 'asyncio.futures', 'asyncio.base_tasks', '_asyncio', 'asyncio.tasks', 'asyncio.locks', 'asyncio.protocols', 'asyncio.queues', 'asyncio.streams', 'asyncio.subprocess', 'asyncio.transports', 'asyncio.unix_events', 'asyncio.base_subprocess', 'asyncio.selector_events', 'asyncio.sslproto', 'tornado.platform', 'tornado.platform.auto', 'tornado.platform.posix', 'tornado.platform.common', 'tornado.platform.interface', 'zmq.eventloop', 'zmq.eventloop.ioloop', 'tornado.platform.asyncio', 'tornado.gen', 'zmq.eventloop.zmqstream', 'ipykernel.iostream', 'jupyter_client.session', 'hmac', 'jupyter_client.jsonutil', 'dateutil', 'dateutil._version', 'dateutil.parser', 'dateutil.parser._parser', 'decimal', '_decimal', 'dateutil.relativedelta', 'dateutil._common', 'dateutil.tz', 'dateutil.tz.tz', 'dateutil.tz._common', 'dateutil.tz._factories', 'dateutil.parser.isoparser', '_strptime', 'jupyter_client.adapter', 'ipykernel.heartbeat', 'ipykernel.ipkernel', 'IPython.utils.tokenutil', 'ipykernel.comm', 'ipykernel.comm.manager', 'ipykernel.comm.comm', 'ipykernel.kernelbase', 'ipykernel.jsonutil', 'ipykernel.zmqshell', 'IPython.core.payloadpage', 'ipykernel.displayhook', 'ipykernel.parentpoller', 'faulthandler', 'ipykernel.datapub', 'ipykernel.serialize', 'ipykernel.pickleutil', 'ipykernel.codeutil', 'IPython.core.completerlib', 'storemagic', 'ipywidgets', 'ipywidgets._version', 'ipywidgets.widgets', 'ipywidgets.widgets.widget', 'ipywidgets.widgets.domwidget', 'ipywidgets.widgets.trait_types', 'ipywidgets.widgets.widget_layout', 'ipywidgets.widgets.widget_style', 'ipywidgets.widgets.valuewidget', 'ipywidgets.widgets.widget_core', 'ipywidgets.widgets.widget_bool', 'ipywidgets.widgets.widget_description', 'ipywidgets.widgets.widget_button', 'ipywidgets.widgets.widget_box', 'ipywidgets.widgets.docutils', 'ipywidgets.widgets.widget_float', 'ipywidgets.widgets.widget_int', 'ipywidgets.widgets.widget_color', 'ipywidgets.widgets.widget_date', 'ipywidgets.widgets.widget_output', 'ipywidgets.widgets.widget_selection', 'ipywidgets.widgets.widget_selectioncontainer', 'ipywidgets.widgets.widget_string', 'ipywidgets.widgets.widget_controller', 'ipywidgets.widgets.interaction', 'ipywidgets.widgets.widget_link', 'ipywidgets.widgets.widget_media', 'unityagents', 'unityagents.environment', 'numpy', 'numpy._globals', 'numpy.__config__', 'numpy.version', 'numpy._import_tools', 'numpy.add_newdocs', 'numpy.lib', 'numpy.lib.info', 'numpy.lib.type_check', 'numpy.core', 'numpy.core.info', 'numpy.core.multiarray', 'numpy.core.umath', 'numpy.core._internal', 'numpy.compat', 'numpy.compat._inspect', 'numpy.compat.py3k', 'numpy.core.numerictypes', 'numpy.core.numeric', 'numpy.core.fromnumeric', 'numpy.core._methods', 'numpy.core.arrayprint', 'numpy.core.defchararray', 'numpy.core.records', 'numpy.core.memmap', 'numpy.core.function_base', 'numpy.core.machar', 'numpy.core.getlimits', 'numpy.core.shape_base', 'numpy.core.einsumfunc', 'numpy.testing', 'unittest', 'unittest.result', 'unittest.util', 'unittest.case', 'unittest.suite', 'unittest.loader', 'unittest.main', 'unittest.runner', 'unittest.signals', 'numpy.testing._private', 'numpy.testing._private.utils', 'numpy.lib.utils', 'numpy.testing._private.decorators', 'numpy.testing._private.nosetester', 'numpy.testing._private.pytesttester', 'numpy.lib.ufunclike', 'numpy.lib.index_tricks', 'numpy.lib.function_base', 'numpy.lib.twodim_base', 'numpy.lib.histograms', 'numpy.matrixlib', 'numpy.matrixlib.defmatrix', 'numpy.linalg', 'numpy.linalg.info', 'numpy.linalg.linalg', 'numpy.linalg.lapack_lite', 'numpy.linalg._umath_linalg', 'numpy.lib.stride_tricks', 'numpy.lib.mixins', 'numpy.lib.nanfunctions', 'numpy.lib.shape_base', 'numpy.lib.scimath', 'numpy.lib.polynomial', 'numpy.lib.arraysetops', 'numpy.lib.npyio', 'numpy.lib.format', 'numpy.lib._datasource', 'numpy.lib._iotools', 'numpy.lib.financial', 'numpy.lib.arrayterator', 'numpy.lib.arraypad', 'numpy.lib._version', 'numpy.core._multiarray_tests', 'numpy._distributor_init', 'numpy.fft', 'numpy.fft.info', 'numpy.fft.fftpack', 'numpy.fft.fftpack_lite', 'numpy.fft.helper', 'numpy.polynomial', 'numpy.polynomial.polynomial', 'numpy.polynomial.polyutils', 'numpy.polynomial._polybase', 'numpy.polynomial.chebyshev', 'numpy.polynomial.legendre', 'numpy.polynomial.hermite', 'numpy.polynomial.hermite_e', 'numpy.polynomial.laguerre', 'numpy.random', 'numpy.random.info', 'mtrand', 'numpy.random.mtrand', 'numpy.ctypeslib', 'numpy.ma', 'numpy.ma.core', 'numpy.ma.extras', 'unityagents.brain', 'unityagents.exception', 'unityagents.curriculum', 'communicator_objects', 'communicator_objects.agent_action_proto_pb2', 'google.protobuf', 'pkg_resources', 'zipfile', 'plistlib', 'xml', 'xml.parsers', 'xml.parsers.expat', 'pyexpat.errors', 'pyexpat.model', 'pyexpat', 'xml.parsers.expat.model', 'xml.parsers.expat.errors', 'pkg_resources.extern', 'pkg_resources._vendor', 'pkg_resources.extern.six', 'pkg_resources._vendor.six', 'pkg_resources.extern.six.moves', 'pkg_resources._vendor.six.moves', 'pkg_resources.py31compat', 'pkg_resources.extern.appdirs', 'pkg_resources._vendor.packaging.__about__', 'pkg_resources.extern.packaging', 'pkg_resources.extern.packaging.version', 'pkg_resources.extern.packaging._structures', 'pkg_resources.extern.packaging.specifiers', 'pkg_resources.extern.packaging._compat', 'pkg_resources.extern.packaging.requirements', 'pkg_resources.extern.pyparsing', 'pkg_resources.extern.six.moves.urllib', 'pkg_resources.extern.packaging.markers', 'google.protobuf.descriptor', 'google.protobuf.internal', 'google.protobuf.internal.api_implementation', 'google.protobuf.internal._api_implementation', 'google.protobuf.pyext', 'google.protobuf.internal.containers', 'google.protobuf.internal.enum_type_wrapper', 'google.protobuf.message', 'google.protobuf.pyext._message', 'google.protobuf.reflection', 'google.protobuf.pyext.cpp_message', 'google.protobuf.symbol_database', 'google.protobuf.descriptor_pool', 'google.protobuf.descriptor_database', 'google.protobuf.text_encoding', 'google.protobuf.message_factory', 'google.protobuf.descriptor_pb2', 'google.protobuf.internal.well_known_types', 'communicator_objects.agent_info_proto_pb2', 'communicator_objects.brain_parameters_proto_pb2', 'communicator_objects.resolution_proto_pb2', 'communicator_objects.brain_type_proto_pb2', 'communicator_objects.space_type_proto_pb2', 'communicator_objects.command_proto_pb2', 'communicator_objects.engine_configuration_proto_pb2', 'communicator_objects.environment_parameters_proto_pb2', 'communicator_objects.header_pb2', 'communicator_objects.unity_input_pb2', 'communicator_objects.unity_rl_input_pb2', 'communicator_objects.unity_rl_initialization_input_pb2', 'communicator_objects.unity_message_pb2', 'communicator_objects.unity_output_pb2', 'communicator_objects.unity_rl_output_pb2', 'communicator_objects.unity_rl_initialization_output_pb2', 'communicator_objects.unity_to_external_pb2', 'communicator_objects.unity_to_external_pb2_grpc', 'grpc', 'grpc._cython', '_cython_0_26_1', 'grpc._cython.cygrpc', 'unityagents.rpc_communicator', 'unityagents.communicator', 'unityagents.socket_communicator', 'PIL', 'PIL._version', 'PIL.Image', 'PIL._util', 'PIL._imaging', 'PIL.ImageMode', 'PIL._binary', 'grpc._server', 'grpc._common', 'grpc._interceptor', 'grpc.framework', 'grpc.framework.foundation', 'grpc.framework.foundation.callable_util', 'grpc._utilities', 'pandas', 'pytz', 'pytz.exceptions', 'pytz.lazy', 'pytz.tzinfo', 'pytz.tzfile', 'pandas.compat', 'distutils', 'distutils.version', 'pandas.compat.chainmap', 'pandas.compat.numpy', 'pandas._libs', 'pandas._libs.tslib', 'pandas._libs.tslibs', 'pandas._libs.tslibs.conversion', 'pandas._libs.tslibs.np_datetime', '_cython_0_28_2', 'pandas._libs.tslibs.nattype', 'pandas._libs.tslibs.timedeltas', 'pandas._libs.tslibs.timezones', 'pandas._libs.tslibs.parsing', 'pandas._libs.tslibs.ccalendar', 'pandas._libs.tslibs.strptime', 'pandas._libs.tslibs.timestamps', 'pandas._libs.tslibs.fields', 'pandas._libs.hashtable', 'pandas._libs.missing', 'pandas._libs.lib', 'pandas.core', 'pandas.core.config_init', 'pandas.core.config', 'pandas.io', 'pandas.io.formats', 'pandas.io.formats.printing', 'pandas.core.dtypes', 'pandas.core.dtypes.inference', 'pandas.io.formats.console', 'pandas.io.formats.terminal', 'pandas.core.api', 'pandas.core.algorithms', 'pandas.core.dtypes.cast', 'pandas.core.dtypes.common', 'pandas._libs.algos', 'pandas.core.dtypes.dtypes', 'pandas.core.dtypes.generic', 'pandas.core.dtypes.base', 'pandas.errors', 'pandas.core.dtypes.missing', 'pandas.core.common', 'pandas.util', 'pandas.util._decorators', 'pandas._libs.properties', 'pandas.core.util', 'pandas.core.util.hashing', 'pandas._libs.hashing', 'pandas.core.arrays', 'pandas.core.arrays.base', 'pandas.compat.numpy.function', 'pandas.util._validators', 'pandas.core.arrays.categorical', 'pandas.core.accessor', 'pandas.core.base', 'pandas.core.nanops', 'pandas.core.missing', 'pandas.core.groupby', 'pandas.core.groupby.groupby', 'pandas.core.index', 'pandas.core.indexes', 'pandas.core.indexes.api', 'pandas.core.indexes.base', 'pandas._libs.index', 'pandas._libs.tslibs.period', 'pandas._libs.tslibs.frequencies', 'pandas._libs.tslibs.resolution', 'pandas.tseries', 'pandas.tseries.offsets', 'pandas.core.tools', 'pandas.core.tools.datetimes', 'dateutil.easter', 'pandas._libs.tslibs.offsets', 'pandas.tseries.frequencies', 'pandas._libs.join', 'pandas.core.ops', 'pandas._libs.ops', 'pandas.core.indexes.frozen', 'pandas.core.dtypes.concat', 'pandas.core.sorting', 'pandas.core.strings', 'pandas.core.indexes.category', 'pandas.core.indexes.multi', 'pandas.core.indexes.interval', 'pandas._libs.interval', 'pandas.core.indexes.datetimes', 'pandas.core.indexes.numeric', 'pandas.core.indexes.datetimelike', 'pandas.core.tools.timedeltas', 'pandas.core.indexes.timedeltas', 'pandas.core.indexes.range', 'pandas.core.indexes.period', 'pandas.core.frame', 'pandas.core.generic', 'pandas.core.indexing', 'pandas._libs.indexing', 'pandas.core.internals', 'pandas._libs.internals', 'pandas.core.sparse', 'pandas.core.sparse.array', 'pandas._libs.sparse', 'pandas.io.formats.format', 'pandas.io.common', 'csv', '_csv', 'mmap', 'pandas.core.series', 'pandas.core.indexes.accessors', 'pandas.plotting', 'pandas.plotting._misc', 'pandas.plotting._style', 'pandas.plotting._compat', 'pandas.plotting._tools', 'pandas.plotting._core', 'pandas.plotting._converter', 'matplotlib', 'matplotlib.cbook', 'gzip', 'matplotlib.cbook.deprecation', 'matplotlib.rcsetup', 'matplotlib.fontconfig_pattern', 'pyparsing', 'matplotlib.colors', 'matplotlib._color_data', 'cycler', 'matplotlib._version']\n"
     ]
    },
    {
     "name": "stderr",
     "output_type": "stream",
     "text": [
      "DEBUG:utils.rnd:Next random number seed: 904338947\n",
      "DEBUG:rl.buffer:Parameter: {'seed': <utils.rnd.Seeds object at 0x11c0e4278>, 'buffer_size': 10000, 'batch_size': 512}\n",
      "DEBUG:utils.rnd:Next random number seed: 291889961\n",
      "DEBUG:rl.ddpg_agent:Parameter: {'experience_replay': <rl.buffer.UniformReplayBuffer object at 0x10f2d5b70>, 'actor_local': None, 'actor_target': None, 'actor_optimizer': None, 'critic_local': None, 'critic_target': None, 'critic_optimizer': None, 'actor_params': {'norm': True, 'lr': 0.0001, 'state_size': 24, 'action_size': 2, 'seed': <utils.rnd.Seeds object at 0x11c0e4278>, 'hidden_layers': [512, 256], 'dropout': 0.2, 'act_fn': [<function leaky_relu at 0x1207cc2f0>, <function leaky_relu at 0x1207cc2f0>, <function tanh at 0x1207cc8c8>]}, 'critic_params': {'norm': True, 'lr': 0.0001, 'weight_decay': 0.0, 'state_size': 24, 'action_size': 2, 'seed': <utils.rnd.Seeds object at 0x11c0e4278>, 'hidden_layers': [512, 256], 'dropout': 0.2, 'action_layer': 1, 'act_fn': [<function leaky_relu at 0x1207cc2f0>, <function leaky_relu at 0x1207cc2f0>, <function <lambda> at 0x1209c1488>]}, 'seed': <utils.rnd.Seeds object at 0x11c0e4278>, 'num_agents': 2, 'gamma': 0.99, 'tau': 0.001, 'update_every': 5, 'num_updates': 10, 'add_noise': True, 'noise_params': {'mu': 0.0, 'theta': 0.15, 'sigma': 0.2, 'seed': <utils.rnd.Seeds object at 0x11c0e4278>, 'action_size': 2}}\n",
      "DEBUG:rl.model:Parameter: {'norm': True, 'lr': 0.0001, 'state_size': 24, 'action_size': 2, 'seed': <utils.rnd.Seeds object at 0x11c0e4278>, 'hidden_layers': [512, 256], 'dropout': 0.2, 'act_fn': [<function leaky_relu at 0x1207cc2f0>, <function leaky_relu at 0x1207cc2f0>, <function tanh at 0x1207cc8c8>]}\n",
      "DEBUG:utils.rnd:Next random number seed: 445571238\n",
      "DEBUG:rl.model:Parameter: {'norm': True, 'lr': 0.0001, 'state_size': 24, 'action_size': 2, 'seed': <utils.rnd.Seeds object at 0x11c0e4278>, 'hidden_layers': [512, 256], 'dropout': 0.2, 'act_fn': [<function leaky_relu at 0x1207cc2f0>, <function leaky_relu at 0x1207cc2f0>, <function tanh at 0x1207cc8c8>]}\n",
      "DEBUG:utils.rnd:Next random number seed: 312172963\n",
      "DEBUG:rl.model:Parameter: {'norm': True, 'lr': 0.0001, 'weight_decay': 0.0, 'state_size': 24, 'action_size': 2, 'seed': <utils.rnd.Seeds object at 0x11c0e4278>, 'hidden_layers': [512, 256], 'dropout': 0.2, 'action_layer': 1, 'act_fn': [<function leaky_relu at 0x1207cc2f0>, <function leaky_relu at 0x1207cc2f0>, <function <lambda> at 0x1209c1488>]}\n",
      "DEBUG:utils.rnd:Next random number seed: 630782967\n",
      "DEBUG:rl.model:Parameter: {'norm': True, 'lr': 0.0001, 'weight_decay': 0.0, 'state_size': 24, 'action_size': 2, 'seed': <utils.rnd.Seeds object at 0x11c0e4278>, 'hidden_layers': [512, 256], 'dropout': 0.2, 'action_layer': 1, 'act_fn': [<function leaky_relu at 0x1207cc2f0>, <function leaky_relu at 0x1207cc2f0>, <function <lambda> at 0x1209c1488>]}\n",
      "DEBUG:utils.rnd:Next random number seed: 838143537\n",
      "DEBUG:utils.rnd:Next random number seed: 821371685\n",
      "DEBUG:rl.ddpg_agent:Parameter: {'experience_replay': <rl.buffer.UniformReplayBuffer object at 0x10f2d5b70>, 'actor_local': None, 'actor_target': None, 'actor_optimizer': None, 'critic_local': None, 'critic_target': None, 'critic_optimizer': None, 'actor_params': {'norm': True, 'lr': 0.0001, 'state_size': 24, 'action_size': 2, 'seed': <utils.rnd.Seeds object at 0x11c0e4278>, 'hidden_layers': [512, 256], 'dropout': 0.2, 'act_fn': [<function leaky_relu at 0x1207cc2f0>, <function leaky_relu at 0x1207cc2f0>, <function tanh at 0x1207cc8c8>]}, 'critic_params': {'norm': True, 'lr': 0.0001, 'weight_decay': 0.0, 'state_size': 24, 'action_size': 2, 'seed': <utils.rnd.Seeds object at 0x11c0e4278>, 'hidden_layers': [512, 256], 'dropout': 0.2, 'action_layer': 1, 'act_fn': [<function leaky_relu at 0x1207cc2f0>, <function leaky_relu at 0x1207cc2f0>, <function <lambda> at 0x1209c1488>]}, 'seed': <utils.rnd.Seeds object at 0x11c0e4278>, 'num_agents': 2, 'gamma': 0.99, 'tau': 0.001, 'update_every': 5, 'num_updates': 10, 'add_noise': True, 'noise_params': {'mu': 0.0, 'theta': 0.15, 'sigma': 0.2, 'seed': <utils.rnd.Seeds object at 0x11c0e4278>, 'action_size': 2}}\n",
      "DEBUG:rl.model:Parameter: {'norm': True, 'lr': 0.0001, 'state_size': 24, 'action_size': 2, 'seed': <utils.rnd.Seeds object at 0x11c0e4278>, 'hidden_layers': [512, 256], 'dropout': 0.2, 'act_fn': [<function leaky_relu at 0x1207cc2f0>, <function leaky_relu at 0x1207cc2f0>, <function tanh at 0x1207cc8c8>]}\n",
      "DEBUG:utils.rnd:Next random number seed: 546889095\n",
      "DEBUG:rl.model:Parameter: {'norm': True, 'lr': 0.0001, 'state_size': 24, 'action_size': 2, 'seed': <utils.rnd.Seeds object at 0x11c0e4278>, 'hidden_layers': [512, 256], 'dropout': 0.2, 'act_fn': [<function leaky_relu at 0x1207cc2f0>, <function leaky_relu at 0x1207cc2f0>, <function tanh at 0x1207cc8c8>]}\n",
      "DEBUG:utils.rnd:Next random number seed: 193145637\n",
      "DEBUG:rl.model:Parameter: {'norm': True, 'lr': 0.0001, 'weight_decay': 0.0, 'state_size': 24, 'action_size': 2, 'seed': <utils.rnd.Seeds object at 0x11c0e4278>, 'hidden_layers': [512, 256], 'dropout': 0.2, 'action_layer': 1, 'act_fn': [<function leaky_relu at 0x1207cc2f0>, <function leaky_relu at 0x1207cc2f0>, <function <lambda> at 0x1209c1488>]}\n",
      "DEBUG:utils.rnd:Next random number seed: 144267963\n",
      "DEBUG:rl.model:Parameter: {'norm': True, 'lr': 0.0001, 'weight_decay': 0.0, 'state_size': 24, 'action_size': 2, 'seed': <utils.rnd.Seeds object at 0x11c0e4278>, 'hidden_layers': [512, 256], 'dropout': 0.2, 'action_layer': 1, 'act_fn': [<function leaky_relu at 0x1207cc2f0>, <function leaky_relu at 0x1207cc2f0>, <function <lambda> at 0x1209c1488>]}\n",
      "DEBUG:utils.rnd:Next random number seed: 961260520\n",
      "DEBUG:utils.rnd:Next random number seed: 354884638\n"
     ]
    },
    {
     "name": "stdout",
     "output_type": "stream",
     "text": [
      "Episode 11018\tAverage Score: 0.52 \t Min: 0.00 \t Max: 2.60 \t Time: 75.736.54\n",
      "Environment solved in 10918 episodes!\tAverage Score: 0.52 \t Time: 158365.36\n",
      "Episode 11019\tAverage Score: 0.52 \t Min: 0.00 \t Max: 2.60 \t Time: 0.38\n",
      "Environment solved in 10919 episodes!\tAverage Score: 0.52 \t Time: 158365.74\n",
      "Episode 11020\tAverage Score: 0.52 \t Min: 0.00 \t Max: 2.60 \t Time: 8.46\n",
      "Environment solved in 10920 episodes!\tAverage Score: 0.52 \t Time: 158374.20\n",
      "Episode 11021\tAverage Score: 0.52 \t Min: 0.00 \t Max: 2.60 \t Time: 18.26\n",
      "Environment solved in 10921 episodes!\tAverage Score: 0.52 \t Time: 158392.46\n",
      "Episode 11022\tAverage Score: 0.52 \t Min: 0.00 \t Max: 2.60 \t Time: 4.99\n",
      "Environment solved in 10922 episodes!\tAverage Score: 0.52 \t Time: 158397.46\n",
      "Episode 11023\tAverage Score: 0.53 \t Min: 0.00 \t Max: 2.60 \t Time: 34.95\n",
      "Environment solved in 10923 episodes!\tAverage Score: 0.53 \t Time: 158432.41\n",
      "Episode 11024\tAverage Score: 0.56 \t Min: 0.00 \t Max: 2.60 \t Time: 76.71\n",
      "Environment solved in 10924 episodes!\tAverage Score: 0.56 \t Time: 158509.12\n",
      "Episode 11025\tAverage Score: 0.56 \t Min: 0.00 \t Max: 2.60 \t Time: 2.67\n",
      "Environment solved in 10925 episodes!\tAverage Score: 0.56 \t Time: 158511.79\n",
      "Episode 11026\tAverage Score: 0.56 \t Min: 0.00 \t Max: 2.60 \t Time: 6.02\n",
      "Environment solved in 10926 episodes!\tAverage Score: 0.56 \t Time: 158517.81\n",
      "Episode 11027\tAverage Score: 0.57 \t Min: 0.00 \t Max: 2.60 \t Time: 54.10\n",
      "Environment solved in 10927 episodes!\tAverage Score: 0.57 \t Time: 158571.91\n",
      "Episode 11028\tAverage Score: 0.58 \t Min: 0.00 \t Max: 2.60 \t Time: 13.32\n",
      "Environment solved in 10928 episodes!\tAverage Score: 0.58 \t Time: 158585.23\n",
      "Episode 11029\tAverage Score: 0.59 \t Min: 0.00 \t Max: 2.60 \t Time: 57.31\n",
      "Environment solved in 10929 episodes!\tAverage Score: 0.59 \t Time: 158642.55\n",
      "Episode 11030\tAverage Score: 0.60 \t Min: 0.00 \t Max: 2.60 \t Time: 28.16\n",
      "Environment solved in 10930 episodes!\tAverage Score: 0.60 \t Time: 158670.71\n",
      "Episode 11031\tAverage Score: 0.61 \t Min: 0.00 \t Max: 2.60 \t Time: 13.58\n",
      "Environment solved in 10931 episodes!\tAverage Score: 0.61 \t Time: 158684.29\n",
      "Episode 11032\tAverage Score: 0.61 \t Min: 0.00 \t Max: 2.60 \t Time: 3.81\n",
      "Environment solved in 10932 episodes!\tAverage Score: 0.61 \t Time: 158688.10\n",
      "Episode 11033\tAverage Score: 0.60 \t Min: 0.00 \t Max: 2.60 \t Time: 4.89\n",
      "Environment solved in 10933 episodes!\tAverage Score: 0.60 \t Time: 158692.99\n",
      "Episode 11034\tAverage Score: 0.62 \t Min: 0.00 \t Max: 2.60 \t Time: 43.44\n",
      "Environment solved in 10934 episodes!\tAverage Score: 0.62 \t Time: 158736.43\n",
      "Episode 11035\tAverage Score: 0.62 \t Min: 0.00 \t Max: 2.60 \t Time: 8.93\n",
      "Environment solved in 10935 episodes!\tAverage Score: 0.62 \t Time: 158745.36\n",
      "Episode 11036\tAverage Score: 0.62 \t Min: 0.00 \t Max: 2.60 \t Time: 10.57\n",
      "Environment solved in 10936 episodes!\tAverage Score: 0.62 \t Time: 158755.93\n",
      "Episode 11037\tAverage Score: 0.63 \t Min: 0.00 \t Max: 2.60 \t Time: 46.82\n",
      "Environment solved in 10937 episodes!\tAverage Score: 0.63 \t Time: 158802.76\n",
      "Episode 11038\tAverage Score: 0.64 \t Min: 0.00 \t Max: 2.60 \t Time: 20.99\n",
      "Environment solved in 10938 episodes!\tAverage Score: 0.64 \t Time: 158823.75\n",
      "Episode 11039\tAverage Score: 0.64 \t Min: 0.00 \t Max: 2.60 \t Time: 16.82\n",
      "Environment solved in 10939 episodes!\tAverage Score: 0.64 \t Time: 158840.56\n",
      "Episode 11040\tAverage Score: 0.65 \t Min: 0.00 \t Max: 2.60 \t Time: 5.89\n",
      "Environment solved in 10940 episodes!\tAverage Score: 0.65 \t Time: 158846.46\n",
      "Episode 11041\tAverage Score: 0.64 \t Min: 0.00 \t Max: 2.60 \t Time: 12.19\n",
      "Environment solved in 10941 episodes!\tAverage Score: 0.64 \t Time: 158858.66\n",
      "Episode 11042\tAverage Score: 0.64 \t Min: 0.00 \t Max: 2.60 \t Time: 16.64\n",
      "Environment solved in 10942 episodes!\tAverage Score: 0.64 \t Time: 158875.30\n",
      "Episode 11043\tAverage Score: 0.65 \t Min: 0.00 \t Max: 2.60 \t Time: 16.76\n",
      "Environment solved in 10943 episodes!\tAverage Score: 0.65 \t Time: 158892.07\n",
      "Episode 11044\tAverage Score: 0.65 \t Min: 0.00 \t Max: 2.60 \t Time: 13.71\n",
      "Environment solved in 10944 episodes!\tAverage Score: 0.65 \t Time: 158905.78\n",
      "Episode 11045\tAverage Score: 0.65 \t Min: 0.00 \t Max: 2.60 \t Time: 2.26\n",
      "Environment solved in 10945 episodes!\tAverage Score: 0.65 \t Time: 158908.04\n",
      "Episode 11046\tAverage Score: 0.65 \t Min: 0.00 \t Max: 2.60 \t Time: 14.13\n",
      "Environment solved in 10946 episodes!\tAverage Score: 0.65 \t Time: 158922.18\n",
      "Episode 11047\tAverage Score: 0.65 \t Min: 0.00 \t Max: 2.60 \t Time: 5.47\n",
      "Environment solved in 10947 episodes!\tAverage Score: 0.65 \t Time: 158927.65\n",
      "Episode 11048\tAverage Score: 0.65 \t Min: 0.00 \t Max: 2.60 \t Time: 6.58\n",
      "Environment solved in 10948 episodes!\tAverage Score: 0.65 \t Time: 158934.23\n",
      "Episode 11049\tAverage Score: 0.65 \t Min: 0.00 \t Max: 2.60 \t Time: 5.06\n",
      "Environment solved in 10949 episodes!\tAverage Score: 0.65 \t Time: 158939.29\n",
      "Episode 11050\tAverage Score: 0.65 \t Min: 0.00 \t Max: 2.60 \t Time: 19.77\n",
      "Environment solved in 10950 episodes!\tAverage Score: 0.65 \t Time: 158959.06\n",
      "Episode 11051\tAverage Score: 0.65 \t Min: 0.00 \t Max: 2.60 \t Time: 2.36\n",
      "Environment solved in 10951 episodes!\tAverage Score: 0.65 \t Time: 158961.42\n",
      "Episode 11052\tAverage Score: 0.65 \t Min: 0.00 \t Max: 2.60 \t Time: 14.31\n",
      "Environment solved in 10952 episodes!\tAverage Score: 0.65 \t Time: 158975.74\n",
      "Episode 11053\tAverage Score: 0.65 \t Min: 0.00 \t Max: 2.60 \t Time: 4.23\n",
      "Environment solved in 10953 episodes!\tAverage Score: 0.65 \t Time: 158979.97\n",
      "Episode 11054\tAverage Score: 0.65 \t Min: 0.00 \t Max: 2.60 \t Time: 3.15\n",
      "Environment solved in 10954 episodes!\tAverage Score: 0.65 \t Time: 158983.12\n",
      "Episode 11055\tAverage Score: 0.65 \t Min: 0.00 \t Max: 2.60 \t Time: 9.25\n",
      "Environment solved in 10955 episodes!\tAverage Score: 0.65 \t Time: 158992.37\n",
      "Episode 11056\tAverage Score: 0.65 \t Min: 0.00 \t Max: 2.60 \t Time: 5.04\n",
      "Environment solved in 10956 episodes!\tAverage Score: 0.65 \t Time: 158997.42\n",
      "Episode 11057\tAverage Score: 0.65 \t Min: 0.00 \t Max: 2.60 \t Time: 8.08\n",
      "Environment solved in 10957 episodes!\tAverage Score: 0.65 \t Time: 159005.50\n",
      "Episode 11058\tAverage Score: 0.65 \t Min: 0.00 \t Max: 2.60 \t Time: 4.23\n",
      "Environment solved in 10958 episodes!\tAverage Score: 0.65 \t Time: 159009.74\n",
      "Episode 11059\tAverage Score: 0.65 \t Min: 0.00 \t Max: 2.60 \t Time: 3.86\n",
      "Environment solved in 10959 episodes!\tAverage Score: 0.65 \t Time: 159013.60\n",
      "Episode 11060\tAverage Score: 0.65 \t Min: 0.00 \t Max: 2.60 \t Time: 8.53\n",
      "Environment solved in 10960 episodes!\tAverage Score: 0.65 \t Time: 159022.13\n",
      "Episode 11061\tAverage Score: 0.65 \t Min: 0.00 \t Max: 2.60 \t Time: 4.29\n",
      "Environment solved in 10961 episodes!\tAverage Score: 0.65 \t Time: 159026.42\n",
      "Episode 11062\tAverage Score: 0.65 \t Min: 0.00 \t Max: 2.60 \t Time: 6.16\n",
      "Environment solved in 10962 episodes!\tAverage Score: 0.65 \t Time: 159032.58\n",
      "Episode 11063\tAverage Score: 0.65 \t Min: 0.00 \t Max: 2.60 \t Time: 4.29\n",
      "Environment solved in 10963 episodes!\tAverage Score: 0.65 \t Time: 159036.87\n",
      "Episode 11064\tAverage Score: 0.64 \t Min: 0.00 \t Max: 2.60 \t Time: 2.33\n",
      "Environment solved in 10964 episodes!\tAverage Score: 0.64 \t Time: 159039.20\n",
      "Episode 11065\tAverage Score: 0.64 \t Min: 0.00 \t Max: 2.60 \t Time: 6.47\n",
      "Environment solved in 10965 episodes!\tAverage Score: 0.64 \t Time: 159045.67\n",
      "Episode 11066\tAverage Score: 0.65 \t Min: 0.00 \t Max: 2.60 \t Time: 8.70\n",
      "Environment solved in 10966 episodes!\tAverage Score: 0.65 \t Time: 159054.37\n",
      "Episode 11067\tAverage Score: 0.65 \t Min: 0.00 \t Max: 2.60 \t Time: 2.24\n",
      "Environment solved in 10967 episodes!\tAverage Score: 0.65 \t Time: 159056.61\n",
      "Episode 11068\tAverage Score: 0.65 \t Min: 0.00 \t Max: 2.60 \t Time: 13.81\n",
      "Environment solved in 10968 episodes!\tAverage Score: 0.65 \t Time: 159070.42\n",
      "Episode 11069\tAverage Score: 0.65 \t Min: 0.00 \t Max: 2.60 \t Time: 5.95\n",
      "Environment solved in 10969 episodes!\tAverage Score: 0.65 \t Time: 159076.37\n",
      "Episode 11070\tAverage Score: 0.65 \t Min: 0.00 \t Max: 2.60 \t Time: 4.92\n",
      "Environment solved in 10970 episodes!\tAverage Score: 0.65 \t Time: 159081.30\n",
      "Episode 11071\tAverage Score: 0.65 \t Min: 0.00 \t Max: 2.60 \t Time: 3.91\n",
      "Environment solved in 10971 episodes!\tAverage Score: 0.65 \t Time: 159085.20\n",
      "Episode 11072\tAverage Score: 0.65 \t Min: 0.00 \t Max: 2.60 \t Time: 2.36\n",
      "Environment solved in 10972 episodes!\tAverage Score: 0.65 \t Time: 159087.57\n",
      "Episode 11073\tAverage Score: 0.65 \t Min: 0.00 \t Max: 2.60 \t Time: 4.99\n",
      "Environment solved in 10973 episodes!\tAverage Score: 0.65 \t Time: 159092.56\n"
     ]
    },
    {
     "name": "stdout",
     "output_type": "stream",
     "text": [
      "Episode 11074\tAverage Score: 0.64 \t Min: 0.00 \t Max: 2.60 \t Time: 3.84\n",
      "Environment solved in 10974 episodes!\tAverage Score: 0.64 \t Time: 159096.40\n",
      "Episode 11075\tAverage Score: 0.65 \t Min: 0.00 \t Max: 2.60 \t Time: 6.55\n",
      "Environment solved in 10975 episodes!\tAverage Score: 0.65 \t Time: 159102.95\n",
      "Episode 11076\tAverage Score: 0.64 \t Min: 0.00 \t Max: 2.60 \t Time: 4.17\n",
      "Environment solved in 10976 episodes!\tAverage Score: 0.64 \t Time: 159107.12\n",
      "Episode 11077\tAverage Score: 0.64 \t Min: 0.00 \t Max: 2.60 \t Time: 5.37\n",
      "Environment solved in 10977 episodes!\tAverage Score: 0.64 \t Time: 159112.50\n",
      "Episode 11078\tAverage Score: 0.64 \t Min: 0.00 \t Max: 2.60 \t Time: 3.46\n",
      "Environment solved in 10978 episodes!\tAverage Score: 0.64 \t Time: 159115.96\n",
      "Episode 11079\tAverage Score: 0.64 \t Min: 0.00 \t Max: 2.60 \t Time: 6.04\n",
      "Environment solved in 10979 episodes!\tAverage Score: 0.64 \t Time: 159122.00\n",
      "Episode 11080\tAverage Score: 0.63 \t Min: 0.00 \t Max: 2.60 \t Time: 5.98\n",
      "Environment solved in 10980 episodes!\tAverage Score: 0.63 \t Time: 159127.98\n",
      "Episode 11081\tAverage Score: 0.63 \t Min: 0.00 \t Max: 2.60 \t Time: 4.10\n",
      "Environment solved in 10981 episodes!\tAverage Score: 0.63 \t Time: 159132.08\n",
      "Episode 11082\tAverage Score: 0.61 \t Min: 0.00 \t Max: 2.60 \t Time: 3.69\n",
      "Environment solved in 10982 episodes!\tAverage Score: 0.61 \t Time: 159135.77\n",
      "Episode 11083\tAverage Score: 0.59 \t Min: 0.00 \t Max: 2.60 \t Time: 3.00\n",
      "Environment solved in 10983 episodes!\tAverage Score: 0.59 \t Time: 159138.77\n",
      "Episode 11084\tAverage Score: 0.59 \t Min: 0.00 \t Max: 2.60 \t Time: 3.86\n",
      "Environment solved in 10984 episodes!\tAverage Score: 0.59 \t Time: 159142.63\n",
      "Episode 11085\tAverage Score: 0.57 \t Min: 0.00 \t Max: 2.60 \t Time: 5.44\n",
      "Environment solved in 10985 episodes!\tAverage Score: 0.57 \t Time: 159148.07\n",
      "Episode 11086\tAverage Score: 0.54 \t Min: 0.00 \t Max: 2.60 \t Time: 3.87\n",
      "Environment solved in 10986 episodes!\tAverage Score: 0.54 \t Time: 159151.94\n",
      "Episode 11087\tAverage Score: 0.54 \t Min: 0.00 \t Max: 2.60 \t Time: 6.16\n",
      "Environment solved in 10987 episodes!\tAverage Score: 0.54 \t Time: 159158.10\n",
      "Episode 11088\tAverage Score: 0.53 \t Min: 0.00 \t Max: 2.60 \t Time: 6.15\n",
      "Environment solved in 10988 episodes!\tAverage Score: 0.53 \t Time: 159164.26\n",
      "Episode 11089\tAverage Score: 0.52 \t Min: 0.00 \t Max: 2.60 \t Time: 5.81\n",
      "Environment solved in 10989 episodes!\tAverage Score: 0.52 \t Time: 159170.07\n",
      "Episode 11090\tAverage Score: 0.51 \t Min: 0.00 \t Max: 2.60 \t Time: 4.60\n",
      "Environment solved in 10990 episodes!\tAverage Score: 0.51 \t Time: 159174.66\n",
      "Episode 11091\tAverage Score: 0.51 \t Min: 0.00 \t Max: 2.60 \t Time: 4.14\n",
      "Environment solved in 10991 episodes!\tAverage Score: 0.51 \t Time: 159178.81\n",
      "Episode 11092\tAverage Score: 0.51 \t Min: 0.00 \t Max: 2.60 \t Time: 3.79\n",
      "Environment solved in 10992 episodes!\tAverage Score: 0.51 \t Time: 159182.60\n",
      "Episode 11094\tAverage Score: 0.50 \t Min: 0.00 \t Max: 2.60 \t Time: 4.82\n",
      "Environment solved in 10994 episodes!\tAverage Score: 0.50 \t Time: 159191.16\n",
      "Episode 11095\tAverage Score: 0.50 \t Min: 0.00 \t Max: 2.60 \t Time: 4.43\n",
      "Environment solved in 10995 episodes!\tAverage Score: 0.50 \t Time: 159195.59\n",
      "Episode 11096\tAverage Score: 0.50 \t Min: 0.00 \t Max: 2.60 \t Time: 5.34\n",
      "Environment solved in 10996 episodes!\tAverage Score: 0.50 \t Time: 159200.93\n",
      "Episode 15000\tAverage Score: 0.00 \t Min: 0.00 \t Max: 0.10 \t Time: 173245.10"
     ]
    }
   ],
   "source": [
    "import logging\n",
    "logger = logging.getLogger()\n",
    "logger.setLevel(logging.DEBUG)\n",
    "\n",
    "import pandas as pd\n",
    "\n",
    "import torch\n",
    "import torch.nn.functional as F\n",
    "import torch.optim as optim\n",
    "\n",
    "from rl.ddpg_agent import DDPGAgent\n",
    "from rl.train import train\n",
    "from rl.model import Actor, Critic\n",
    "from utils.rnd import Seeds\n",
    "\n",
    "seedGenerator = Seeds('seeds')\n",
    "seedGenerator.next()\n",
    "from rl.buffer import UniformReplayBuffer\n",
    "\n",
    "device = torch.device(\"cuda:0\" if torch.cuda.is_available() else \"cpu\")\n",
    "\n",
    "experience_params = {\n",
    "    'seed': seedGenerator,       # seed for the experience replay buffer\n",
    "    'buffer_size': 10000,       # size of the replay buffer\n",
    "    'batch_size': 512            # batch size sampled from the replay buffer\n",
    "}\n",
    "\n",
    "experienceReplay = UniformReplayBuffer(experience_params)\n",
    "\n",
    "\n",
    "params = {\n",
    "    'name': 'Tennis-512-256-2',\n",
    "    'episodes': 15000,            # number of episodes\n",
    "    'maxlen': 100,               # sliding window size of recent scores\n",
    "    'brain_name': brain_name,    # the brain name of the unity environment\n",
    "    'achievement': 0.5,          # score at which the environment is considered solved\n",
    "    'environment': env,\n",
    "    'agent_params': {\n",
    "        'experience_replay': experienceReplay,\n",
    "        'actor_local': None,\n",
    "        'actor_target': None,\n",
    "        'actor_optimizer': None,\n",
    "        'critic_local': None,\n",
    "        'critic_target': None,\n",
    "        'critic_optimizer': None,\n",
    "        'actor_params': {            # actor parameters\n",
    "            'norm': True,\n",
    "            'lr': 0.0001,                # learning rate\n",
    "            'state_size': state_size,    # size of the state space\n",
    "            'action_size': action_size,  # size of the action space\n",
    "            'seed': seedGenerator,       # seed of the network architecture\n",
    "            'hidden_layers': [512, 256],  # hidden layer neurons\n",
    "            'dropout': 0.2,\n",
    "            'act_fn': [F.leaky_relu, F.leaky_relu, F.tanh]\n",
    "        },\n",
    "        'critic_params': {               # critic parameters\n",
    "            'norm': True,\n",
    "            'lr': 0.0001,                # learning rate\n",
    "            'weight_decay': 0.0,         # weight decay\n",
    "            'state_size': state_size,    # size of the state space\n",
    "            'action_size': action_size,  # size of the action space\n",
    "            'seed': seedGenerator,       # seed of the network architecture\n",
    "            'hidden_layers': [512, 256],  # hidden layer neurons\n",
    "            'dropout': 0.2,\n",
    "            'action_layer': 1,\n",
    "            'act_fn': [F.leaky_relu, F.leaky_relu, lambda x: x]\n",
    "        },\n",
    "        'seed': seedGenerator,\n",
    "        'num_agents': num_agents,    # number of agents in the environment\n",
    "        'gamma': 0.99,               # discount factor\n",
    "        'tau': 0.001,                # mixing rate soft-update of target parameters\n",
    "        'update_every': 5,           # update every n-th step\n",
    "        'num_updates': 10,           # we don't necessarily need to run as many rounds of updates as there are agents\n",
    "        'add_noise': True,           # add noise using 'noise_params'\n",
    "        'noise_params': {            # parameters for the noisy process\n",
    "            'mu': 0.,                # mean\n",
    "            'theta': 0.15,           # theta value for the ornstein-uhlenbeck process\n",
    "            'sigma': 0.2,            # variance\n",
    "            'seed': seedGenerator,   # seed\n",
    "            'action_size': action_size\n",
    "        }\n",
    "    }\n",
    "}\n",
    "\n",
    "agents = [DDPGAgent(idx=idx, params=params['agent_params']) for idx, a in enumerate(range(num_agents))]\n",
    "\n",
    "scores = train(agents=agents, params=params)\n",
    "\n",
    "df = pd.DataFrame(data={'episode': np.arange(len(scores)), 'Tennis-512-256-2': scores})\n",
    "df.to_csv('results/Tennis-512-256-2-scores.csv', index=False)"
   ]
  },
  {
   "cell_type": "markdown",
   "metadata": {},
   "source": [
    "### 3.3 Third Experiment\n",
    "\n",
    "We test whether a shared actor network helps in reducing the number of episodes to achieve the goal of the environment."
   ]
  },
  {
   "cell_type": "code",
   "execution_count": null,
   "metadata": {},
   "outputs": [],
   "source": [
    "env.close()"
   ]
  },
  {
   "cell_type": "markdown",
   "metadata": {},
   "source": [
    "### 4. Summary\n",
    "\n",
    "Here is a summary of the results obtained. We include the first experiment which was only run for 5000 episodes. The second experiment achieved the goal of the environment in under 11000 episodes. What is striking is that there was barely any improvement for nearly 5000 episodes before we experience a dramatic deterioration and a significant jump in performance, which peaked for a short time and degraded rapidly again. This irratic behaviour could be explained by the fact that one agent achieved superior performance compared to its opponent (i.e., winning 11000 to 4000 episodes)."
   ]
  },
  {
   "cell_type": "code",
   "execution_count": 10,
   "metadata": {},
   "outputs": [
    {
     "name": "stderr",
     "output_type": "stream",
     "text": [
      "DEBUG:matplotlib.pyplot:Loaded backend module://ipykernel.pylab.backend_inline version unknown.\n"
     ]
    },
    {
     "data": {
      "text/plain": [
       "<matplotlib.lines.Line2D at 0x11d1a42e8>"
      ]
     },
     "execution_count": 10,
     "metadata": {},
     "output_type": "execute_result"
    },
    {
     "name": "stderr",
     "output_type": "stream",
     "text": [
      "DEBUG:matplotlib.axes._base:update_title_pos\n",
      "DEBUG:matplotlib.axes._base:update_title_pos\n",
      "DEBUG:matplotlib.axes._base:update_title_pos\n",
      "DEBUG:matplotlib.axes._base:update_title_pos\n",
      "DEBUG:matplotlib.axes._base:update_title_pos\n"
     ]
    },
    {
     "data": {
      "image/png": "[encoded data removed]",
      "text/plain": [
       "<Figure size 432x288 with 1 Axes>"
      ]
     },
     "metadata": {
      "needs_background": "light"
     },
     "output_type": "display_data"
    }
   ],
   "source": [
    "import matplotlib.pyplot as plt\n",
    "%matplotlib inline\n",
    "\n",
    "import glob\n",
    "import pandas as pd\n",
    "\n",
    "achievementWindow = 100\n",
    "df = pd.concat([pd.read_csv(f) for f in glob.glob('results/*-scores.csv')], axis=1)\n",
    "df = df.loc[:,~df.columns.duplicated()]\n",
    "\n",
    "dfRolling = df.rolling(achievementWindow).mean()\n",
    "dfRolling.plot(x='episode', y=['Tennis-512-256', 'Tennis-512-256-2'], kind='line')\n",
    "solvedAt = dfRolling[dfRolling['Tennis-512-256-2']>=0.5].index[0] - achievementWindow\n",
    "plt.axvline(x=solvedAt, color='red')\n",
    "plt.axhline(y=0.5, color='red')"
   ]
  },
  {
   "cell_type": "markdown",
   "metadata": {},
   "source": [
    "The next plot shows the rewards obtained after every episode to demonstrate the maximum value attained during training (i.e., 2.6). Interestingly, this value was achieved a number of times in fairly narrow intervals before it degrated again."
   ]
  },
  {
   "cell_type": "code",
   "execution_count": 12,
   "metadata": {},
   "outputs": [
    {
     "data": {
      "text/plain": [
       "<matplotlib.axes._subplots.AxesSubplot at 0x11caf6b70>"
      ]
     },
     "execution_count": 12,
     "metadata": {},
     "output_type": "execute_result"
    },
    {
     "name": "stderr",
     "output_type": "stream",
     "text": [
      "DEBUG:matplotlib.axes._base:update_title_pos\n",
      "DEBUG:matplotlib.axes._base:update_title_pos\n",
      "DEBUG:matplotlib.axes._base:update_title_pos\n",
      "DEBUG:matplotlib.axes._base:update_title_pos\n",
      "DEBUG:matplotlib.axes._base:update_title_pos\n"
     ]
    },
    {
     "data": {
      "image/png": "[encoded data removed]",
      "text/plain": [
       "<Figure size 432x288 with 1 Axes>"
      ]
     },
     "metadata": {
      "needs_background": "light"
     },
     "output_type": "display_data"
    }
   ],
   "source": [
    "df = pd.concat([pd.read_csv(f) for f in glob.glob('results/*-scores.csv')], axis=1)\n",
    "df = df.loc[:,~df.columns.duplicated()]\n",
    "\n",
    "df.plot(x='episode', y=['Tennis-512-256-2'], kind='scatter')"
   ]
  },
  {
   "cell_type": "markdown",
   "metadata": {},
   "source": [
    "### 5. Future Work\n",
    "\n",
    "While I accomodated for a shared actor model, this resulted in very poor performance as the actions appeared synchronized. Future work will look into this more carefully as I observed some stability expected issues during learning."
   ]
  },
  {
   "cell_type": "code",
   "execution_count": null,
   "metadata": {},
   "outputs": [],
   "source": []
  }
 ],
 "metadata": {
  "kernelspec": {
   "display_name": "Python 3",
   "language": "python",
   "name": "python3"
  },
  "language_info": {
   "codemirror_mode": {
    "name": "ipython",
    "version": 3
   },
   "file_extension": ".py",
   "mimetype": "text/x-python",
   "name": "python",
   "nbconvert_exporter": "python",
   "pygments_lexer": "ipython3",
   "version": "3.6.6"
  }
 },
 "nbformat": 4,
 "nbformat_minor": 2
}
